{
 "cells": [
  {
   "cell_type": "code",
   "execution_count": 2,
   "metadata": {},
   "outputs": [],
   "source": [
    "# import lmdb\n",
    "import pickle, re\n",
    "from functools import partial\n",
    "import pandas as pd\n",
    "import numpy as np\n",
    "from scipy.interpolate import interp1d\n",
    "from rdkit import Chem, RDLogger\n",
    "from rdkit.Chem import Draw\n",
    "RDLogger.DisableLog('rdApp.*')\n",
    "from collections import Counter\n",
    "from tqdm import tqdm\n",
    "import multiprocessing as mp\n",
    "import matplotlib.pyplot as plt \n",
    "import os\n",
    "from typing import Iterable\n",
    "from copy import deepcopy\n"
   ]
  },
  {
   "cell_type": "code",
   "execution_count": 15,
   "metadata": {},
   "outputs": [
    {
     "data": {
      "text/plain": [
       "array([ 1,  6,  5, 19,  5,  5,  5, 15,  2, 16,  5,  5, 19,  4,  5, 19,  5,\n",
       "        5, 15,  2, 16,  5,  5,  5, 19,  6, 23])"
      ]
     },
     "execution_count": 15,
     "metadata": {},
     "output_type": "execute_result"
    }
   ],
   "source": [
    "path = '/home/lyt/projects/spec2mol/datasets/raman2mol/eval.pkl'\n",
    "p = pd.read_pickle(path)\n",
    "a=p['smiles'].values[0]\n",
    "a"
   ]
  },
  {
   "cell_type": "code",
   "execution_count": 16,
   "metadata": {},
   "outputs": [
    {
     "data": {
      "text/plain": [
       "array([ 1,  7,  6, 20,  6,  6,  6, 16,  3, 17,  6,  6, 20,  5,  6, 20,  6,\n",
       "        6, 16,  3, 17,  6,  6,  6, 20,  7,  2])"
      ]
     },
     "execution_count": 16,
     "metadata": {},
     "output_type": "execute_result"
    }
   ],
   "source": [
    "np.hstack([np.array([1]),a[1:-1]+1, np.array([2])])"
   ]
  },
  {
   "cell_type": "code",
   "execution_count": 17,
   "metadata": {},
   "outputs": [],
   "source": [
    "def f(x):\n",
    "    return np.hstack([np.array([1]),x[1:-1]+1, np.array([2])])"
   ]
  },
  {
   "cell_type": "code",
   "execution_count": 18,
   "metadata": {},
   "outputs": [],
   "source": [
    "p['label']=p['label'].apply(f)\n",
    "p.to_pickle(path)"
   ]
  },
  {
   "cell_type": "markdown",
   "metadata": {},
   "source": [
    "### Random dataset"
   ]
  },
  {
   "cell_type": "code",
   "execution_count": 5,
   "metadata": {},
   "outputs": [],
   "source": [
    "# import torch\n",
    "# import random\n",
    "\n",
    "# x = torch.randn(1000,1,1024)\n",
    "# # 定义词汇表大小和 PAD 索引\n",
    "# vocab_size = 19\n",
    "# pad_idx = 0\n",
    "\n",
    "# # 定义批次大小和最大序列长度\n",
    "# batch_size = 1000\n",
    "# max_seq_len = 10\n",
    "\n",
    "# # 随机生成每个序列的长度\n",
    "# seq_lengths = [random.randint(1, max_seq_len) for _ in range(batch_size)]\n",
    "\n",
    "# # 生成随机序列\n",
    "# sequences = []\n",
    "# for length in seq_lengths:\n",
    "#     seq = [random.randint(1, vocab_size - 1) for _ in range(length)]\n",
    "#     sequences.append(torch.tensor(seq, dtype=torch.long))\n",
    "# y = sequences\n",
    "# y = [torch.hstack((torch.tensor([0]),i,torch.tensor([vocab_size+1]))) for i in y]\n",
    "# dfs = pd.DataFrame({\n",
    "#     'spectrum':[i for i in x],\n",
    "#     'label':y\n",
    "# })"
   ]
  },
  {
   "cell_type": "markdown",
   "metadata": {},
   "source": [
    "### IR"
   ]
  },
  {
   "cell_type": "code",
   "execution_count": null,
   "metadata": {},
   "outputs": [],
   "source": [
    "with open('/home/lyt/projects/sub_id-main/datasets/ir/polymerir.txt', 'r') as f:\n",
    "    polymerfiles = [i.strip() for i in f.readlines()]\n",
    "polymerfiles"
   ]
  },
  {
   "cell_type": "code",
   "execution_count": 2,
   "metadata": {},
   "outputs": [],
   "source": [
    "alkane = '[CX4;H3,H2]'\n",
    "alkene = '[CX3]=[CX3]'\n",
    "alkyne = '[CX2]#[CX2]'\n",
    "arene = '[cX3]1[cX3][cX3][cX3][cX3][cX3]1'\n",
    "haloalkane = '[#6][F,Cl,Br,I]'\n",
    "alcohol = '[#6][OX2H]'\n",
    "aldehyde = '[CX3H1](=O)[#6,H]'\n",
    "ketone = '[#6][CX3](=O)[#6]'\n",
    "carboxylic_acid = '[CX3](=O)[OX2H]'\n",
    "acid_anhydride = '[CX3](=[OX1])[OX2][CX3](=[OX1])'\n",
    "acyl_halide = '[CX3](=[OX1])[F,Cl,Br,I]'\n",
    "ester = '[#6][CX3](=O)[OX2H0][#6]'\n",
    "ether = '[OD2]([#6])[#6]'\n",
    "amine = '[NX3;H2,H1,H0;!$(NC=O)]'\n",
    "amide = '[NX3][CX3](=[OX1])[#6]'\n",
    "nitrile = '[NX1]#[CX2]'\n",
    "imide = '[CX3](=[OX1])[NX3][CX3](=[OX1])'\n",
    "imine = '[$([CX3]([#6])[#6]),$([CX3H][#6])]=[$([NX2][#6]),$([NX2H])]'\n",
    "azo_compound = '[#6][NX2]=[NX2][#6]'\n",
    "thiol = '[#16X2H]'\n",
    "thial = '[CX3H1](=O)[#6,H]'\n",
    "sulfone = '[#16X4](=[OX1])(=[OX1])([#6])[#6]'\n",
    "sulfonic_acid = '[#16X4](=[OX1])(=[OX1])([#6])[OX2H]'\n",
    "enol = '[OX2H][#6X3]=[#6]'\n",
    "phenol = '[OX2H][cX3]:[c]'\n",
    "hydrazine = '[NX3][NX3]'\n",
    "enamine = '[NX3][CX3]=[CX3]'\n",
    "isocyanate = '[NX2]=[C]=[O]'\n",
    "isothiocyanate = '[NX2]=[C]=[S]'\n",
    "phosphine = '[PX3]'\n",
    "sulfonamide = '[#16X4]([NX3])(=[OX1])(=[OX1])[#6]'\n",
    "sulfonate = '[#16X4](=[OX1])(=[OX1])([#6])[OX2H0]'\n",
    "sulfoxide = '[#16X3]=[OX1]'\n",
    "thioamide = '[NX3][CX3]=[SX1]'\n",
    "hydrazone = '[NX3][NX2]=[#6]'\n",
    "carbamate = '[NX3][CX3](=[OX1])[OX2H0]'\n",
    "sulfide = '[#16X2H0]'\n",
    "\n",
    "fg_list_extended = [\n",
    "        alkane,\n",
    "        alkene,\n",
    "        alkyne,\n",
    "        arene, \n",
    "        haloalkane, \n",
    "        alcohol,\n",
    "        aldehyde,\n",
    "        ketone, \n",
    "        carboxylic_acid, \n",
    "        acid_anhydride, \n",
    "        acyl_halide, \n",
    "        ester, \n",
    "        ether, \n",
    "        amine, \n",
    "        amide, \n",
    "        nitrile, \n",
    "        imide, \n",
    "        imine, \n",
    "        azo_compound,\n",
    "        thiol, \n",
    "        thial, \n",
    "        sulfone, \n",
    "        sulfonic_acid, \n",
    "        enol, \n",
    "        phenol,\n",
    "        hydrazine, \n",
    "        enamine, \n",
    "        isocyanate, \n",
    "        isothiocyanate,\n",
    "        phosphine, \n",
    "        sulfonamide, \n",
    "        sulfonate, \n",
    "        sulfoxide, \n",
    "        thioamide, \n",
    "        hydrazone, \n",
    "        carbamate, \n",
    "        sulfide]\n",
    "# elements = ['C','H','c','O','N', 'n','F','Cl','Br','I','S','P','#','=','(',')','@', '1', '2', ]"
   ]
  },
  {
   "cell_type": "code",
   "execution_count": null,
   "metadata": {},
   "outputs": [],
   "source": [
    "# len(elements)"
   ]
  },
  {
   "cell_type": "markdown",
   "metadata": {},
   "source": [
    "## 1. Washing and Labeling"
   ]
  },
  {
   "cell_type": "code",
   "execution_count": 87,
   "metadata": {},
   "outputs": [],
   "source": [
    "root = '/home/lyt/projects/datasets/Raman'\n",
    "def readspec(fname, ds):\n",
    "    path = os.path.join(root,fname)\n",
    "    # try:\n",
    "    with open(path, \"r\", encoding=\"utf-8\") as f:\n",
    "        l = f.readlines()\n",
    "    l = np.array([s.split()[0].split(',')[1] for s in l], dtype=np.float32)\n",
    "    return np.nan_to_num(l)\n",
    "    # except FileNotFoundError:\n",
    "    #     print(path)\n",
    "def mfi(inchi):\n",
    "    try:\n",
    "        return Chem.MolFromInchi(inchi)\n",
    "    except: return None\n",
    "def m2s(mol):\n",
    "    try:\n",
    "        return Chem.MolToSmiles(mol) \n",
    "    except: None\n",
    "def interpolate(arr):\n",
    "    return interp1d(np.linspace(400,4000,arr.shape[-1]),arr,kind='slinear')(np.linspace(400,4000,1024))\n",
    "def label_subs(mol):\n",
    "    return np.array([mol.HasSubstructMatch(Chem.MolFromSmarts(fg)) for fg in fg_list_extended], dtype=int)\n",
    "def smiles_tokenizer(smiles):\n",
    "    pattern = r\"(\\[[^\\]]+\\]|Cl|Br|[A-Za-z0-9=@#%\\*\\-\\+\\(\\)\\.\\/\\$\\\\])\"\n",
    "    tokens = re.findall(pattern, smiles)\n",
    "    return tokens\n",
    "def label_token(s: str, lst: list[str]) -> str:\n",
    "    label = [0] + [lst.index(i)+1 for i in smiles_tokenizer(s)]\n",
    "    label.append(len(lst)+1)\n",
    "    return np.array(label, dtype=int)\n",
    "def count_element(smiles):\n",
    "    mol = Chem.MolFromSmiles(smiles)\n",
    "    return list(set([atom.GetSymbol() for atom in mol.GetAtoms()]))\n",
    "\n",
    "def count_token(text: str, subs: Iterable[str]) -> str:\n",
    "    try:\n",
    "        if not subs:\n",
    "            return text\n",
    "        pattern = '|'.join(map(re.escape, subs))\n",
    "        return re.sub(pattern, '', text)\n",
    "    except: return None"
   ]
  },
  {
   "cell_type": "code",
   "execution_count": 95,
   "metadata": {},
   "outputs": [
    {
     "name": "stderr",
     "output_type": "stream",
     "text": [
      "100%|██████████████████████████████████████████████████████████████| 19/19 [00:00<00:00, 122.42it/s]"
     ]
    },
    {
     "name": "stdout",
     "output_type": "stream",
     "text": [
      "RZ3X: 'utf-8' codec can't decode byte 0xa6 in position 7723: invalid start byte\n"
     ]
    },
    {
     "name": "stderr",
     "output_type": "stream",
     "text": [
      "\n"
     ]
    },
    {
     "data": {
      "text/html": [
       "<div>\n",
       "<style scoped>\n",
       "    .dataframe tbody tr th:only-of-type {\n",
       "        vertical-align: middle;\n",
       "    }\n",
       "\n",
       "    .dataframe tbody tr th {\n",
       "        vertical-align: top;\n",
       "    }\n",
       "\n",
       "    .dataframe thead th {\n",
       "        text-align: right;\n",
       "    }\n",
       "</style>\n",
       "<table border=\"1\" class=\"dataframe\">\n",
       "  <thead>\n",
       "    <tr style=\"text-align: right;\">\n",
       "      <th></th>\n",
       "      <th>filename</th>\n",
       "      <th>inchi</th>\n",
       "    </tr>\n",
       "  </thead>\n",
       "  <tbody>\n",
       "    <tr>\n",
       "      <th>0</th>\n",
       "      <td>QR2X/result/data/0.txt</td>\n",
       "      <td>InChI=1S/C8H4F13N3/c9-3(10,1-2-23-24-22)4(11,1...</td>\n",
       "    </tr>\n",
       "    <tr>\n",
       "      <th>1</th>\n",
       "      <td>QR2X/result/data/1.txt</td>\n",
       "      <td>InChI=1S/C28H60O13Si/c1-5-39-42(40-6-2,41-7-3)...</td>\n",
       "    </tr>\n",
       "    <tr>\n",
       "      <th>2</th>\n",
       "      <td>QR2X/result/data/2.txt</td>\n",
       "      <td>InChI=1S/C38H77ClO16SSi/c1-4-53-57(54-5-2,55-6...</td>\n",
       "    </tr>\n",
       "    <tr>\n",
       "      <th>3</th>\n",
       "      <td>QR2X/result/data/3.txt</td>\n",
       "      <td>InChI=1S/C5H11O4P/c1-7-10(6,8-2)4-5-3-9-5/h5H,...</td>\n",
       "    </tr>\n",
       "    <tr>\n",
       "      <th>4</th>\n",
       "      <td>QR2X/result/data/4.txt</td>\n",
       "      <td>MMA co TMI\\n</td>\n",
       "    </tr>\n",
       "    <tr>\n",
       "      <th>...</th>\n",
       "      <td>...</td>\n",
       "      <td>...</td>\n",
       "    </tr>\n",
       "    <tr>\n",
       "      <th>244</th>\n",
       "      <td>QR2X/result/data/244.txt</td>\n",
       "      <td>InChI=1S/C12H7F13O4/c13-7(14,3-4-29-6(28)2-1-5...</td>\n",
       "    </tr>\n",
       "    <tr>\n",
       "      <th>245</th>\n",
       "      <td>QR2X/result/data/245.txt</td>\n",
       "      <td>Polystyrene sulfonate\\n</td>\n",
       "    </tr>\n",
       "    <tr>\n",
       "      <th>246</th>\n",
       "      <td>QR2X/result/data/246.txt</td>\n",
       "      <td>Copolymer [styrene-co-phosphonic diacid monome...</td>\n",
       "    </tr>\n",
       "    <tr>\n",
       "      <th>247</th>\n",
       "      <td>QR2X/result/data/247.txt</td>\n",
       "      <td>Poly(sodium 4-styrenesulfonate)\\n</td>\n",
       "    </tr>\n",
       "    <tr>\n",
       "      <th>248</th>\n",
       "      <td>QR2X/result/data/248.txt</td>\n",
       "      <td>Poly[(R)-3-hydroxybutyrate-co-(R)-3-hydroxyhex...</td>\n",
       "    </tr>\n",
       "  </tbody>\n",
       "</table>\n",
       "<p>249 rows × 2 columns</p>\n",
       "</div>"
      ],
      "text/plain": [
       "                     filename  \\\n",
       "0      QR2X/result/data/0.txt   \n",
       "1      QR2X/result/data/1.txt   \n",
       "2      QR2X/result/data/2.txt   \n",
       "3      QR2X/result/data/3.txt   \n",
       "4      QR2X/result/data/4.txt   \n",
       "..                        ...   \n",
       "244  QR2X/result/data/244.txt   \n",
       "245  QR2X/result/data/245.txt   \n",
       "246  QR2X/result/data/246.txt   \n",
       "247  QR2X/result/data/247.txt   \n",
       "248  QR2X/result/data/248.txt   \n",
       "\n",
       "                                                 inchi  \n",
       "0    InChI=1S/C8H4F13N3/c9-3(10,1-2-23-24-22)4(11,1...  \n",
       "1    InChI=1S/C28H60O13Si/c1-5-39-42(40-6-2,41-7-3)...  \n",
       "2    InChI=1S/C38H77ClO16SSi/c1-4-53-57(54-5-2,55-6...  \n",
       "3    InChI=1S/C5H11O4P/c1-7-10(6,8-2)4-5-3-9-5/h5H,...  \n",
       "4                                         MMA co TMI\\n  \n",
       "..                                                 ...  \n",
       "244  InChI=1S/C12H7F13O4/c13-7(14,3-4-29-6(28)2-1-5...  \n",
       "245                            Polystyrene sulfonate\\n  \n",
       "246  Copolymer [styrene-co-phosphonic diacid monome...  \n",
       "247                  Poly(sodium 4-styrenesulfonate)\\n  \n",
       "248  Poly[(R)-3-hydroxybutyrate-co-(R)-3-hydroxyhex...  \n",
       "\n",
       "[249 rows x 2 columns]"
      ]
     },
     "execution_count": 95,
     "metadata": {},
     "output_type": "execute_result"
    }
   ],
   "source": [
    "df_label = []\n",
    "dirlist = os.listdir(root) #polymerfiles  \n",
    "for d in tqdm(dirlist, total=len(dirlist), ncols=100):\n",
    "    try:\n",
    "        inchifile = root+'/'+d+'/inchi.txt'\n",
    "        with open(inchifile, 'r') as f:\n",
    "            inchis = f.readlines()\n",
    "        try: \n",
    "            ds = d +'/data'\n",
    "            specfiles = sorted(os.listdir(root+'/'+ds), key=lambda name: int(name.split('.')[0]))\n",
    "        except: \n",
    "            ds = d +'/result/data'\n",
    "            specfiles = sorted(os.listdir(root+'/'+ds), key=lambda name: int(name.split('.')[0]))\n",
    "        specfiles = [os.path.join(ds,f) for f in specfiles]\n",
    "        if len(inchis)!=len(specfiles):\n",
    "            inchis = inchis[:len(specfiles)]\n",
    "        df = pd.DataFrame({\n",
    "            \"filename\": specfiles,\n",
    "            \"inchi\": inchis\n",
    "        })\n",
    "        df_label.append(df)\n",
    "    except Exception as e:\n",
    "        print(f'{d}: {e}')\n",
    "df_label = pd.concat([d for d in df_label if not d.empty], ignore_index=True)"
   ]
  },
  {
   "cell_type": "code",
   "execution_count": 96,
   "metadata": {},
   "outputs": [
    {
     "data": {
      "text/html": [
       "<div>\n",
       "<style scoped>\n",
       "    .dataframe tbody tr th:only-of-type {\n",
       "        vertical-align: middle;\n",
       "    }\n",
       "\n",
       "    .dataframe tbody tr th {\n",
       "        vertical-align: top;\n",
       "    }\n",
       "\n",
       "    .dataframe thead th {\n",
       "        text-align: right;\n",
       "    }\n",
       "</style>\n",
       "<table border=\"1\" class=\"dataframe\">\n",
       "  <thead>\n",
       "    <tr style=\"text-align: right;\">\n",
       "      <th></th>\n",
       "      <th>spectrum</th>\n",
       "      <th>smiles</th>\n",
       "    </tr>\n",
       "  </thead>\n",
       "  <tbody>\n",
       "    <tr>\n",
       "      <th>0</th>\n",
       "      <td>[0.02040800079703331, 0.02040800079703331, 0.0...</td>\n",
       "      <td>COc1ccc(C(Cl)(c2ccccc2)c2ccc(OC)cc2)cc1</td>\n",
       "    </tr>\n",
       "    <tr>\n",
       "      <th>1</th>\n",
       "      <td>[0.024490000680088997, 0.028571000322699543, 0...</td>\n",
       "      <td>N=c1nc(O)c2ncc(O)nc2[nH]1</td>\n",
       "    </tr>\n",
       "    <tr>\n",
       "      <th>2</th>\n",
       "      <td>[0.012245000340044498, 0.014286000281572342, 0...</td>\n",
       "      <td>N=c1nc(O)c2nc(C(=O)O)cnc2[nH]1</td>\n",
       "    </tr>\n",
       "    <tr>\n",
       "      <th>3</th>\n",
       "      <td>[0.008163000456988811, 0.008163000456988811, 0...</td>\n",
       "      <td>Fc1cc(F)c(F)c(S)c1F</td>\n",
       "    </tr>\n",
       "    <tr>\n",
       "      <th>4</th>\n",
       "      <td>[0.008163000456988811, 0.008163000456988811, 0...</td>\n",
       "      <td>Nc1cccc(O)c1</td>\n",
       "    </tr>\n",
       "    <tr>\n",
       "      <th>...</th>\n",
       "      <td>...</td>\n",
       "      <td>...</td>\n",
       "    </tr>\n",
       "    <tr>\n",
       "      <th>22484</th>\n",
       "      <td>[0.0, 0.0, 0.0, 0.0066548801379557095, 0.00834...</td>\n",
       "      <td>O=C(O)/C=C/C(=O)OCCC(F)(F)C(F)(F)C(F)(F)C(F)(F...</td>\n",
       "    </tr>\n",
       "    <tr>\n",
       "      <th>22485</th>\n",
       "      <td>[0.0, 0.0, 0.0, 0.011646651255944645, 0.014286...</td>\n",
       "      <td>None</td>\n",
       "    </tr>\n",
       "    <tr>\n",
       "      <th>22486</th>\n",
       "      <td>[0.0, 0.0, 0.0, 0.004990956052329375, 0.006122...</td>\n",
       "      <td>None</td>\n",
       "    </tr>\n",
       "    <tr>\n",
       "      <th>22487</th>\n",
       "      <td>[0.0, 0.0, 0.0, 0.009982727549948332, 0.012245...</td>\n",
       "      <td>None</td>\n",
       "    </tr>\n",
       "    <tr>\n",
       "      <th>22488</th>\n",
       "      <td>[0.008163000456988811, 0.008163000456988811, 0...</td>\n",
       "      <td>None</td>\n",
       "    </tr>\n",
       "  </tbody>\n",
       "</table>\n",
       "<p>22489 rows × 2 columns</p>\n",
       "</div>"
      ],
      "text/plain": [
       "                                                spectrum  \\\n",
       "0      [0.02040800079703331, 0.02040800079703331, 0.0...   \n",
       "1      [0.024490000680088997, 0.028571000322699543, 0...   \n",
       "2      [0.012245000340044498, 0.014286000281572342, 0...   \n",
       "3      [0.008163000456988811, 0.008163000456988811, 0...   \n",
       "4      [0.008163000456988811, 0.008163000456988811, 0...   \n",
       "...                                                  ...   \n",
       "22484  [0.0, 0.0, 0.0, 0.0066548801379557095, 0.00834...   \n",
       "22485  [0.0, 0.0, 0.0, 0.011646651255944645, 0.014286...   \n",
       "22486  [0.0, 0.0, 0.0, 0.004990956052329375, 0.006122...   \n",
       "22487  [0.0, 0.0, 0.0, 0.009982727549948332, 0.012245...   \n",
       "22488  [0.008163000456988811, 0.008163000456988811, 0...   \n",
       "\n",
       "                                                  smiles  \n",
       "0                COc1ccc(C(Cl)(c2ccccc2)c2ccc(OC)cc2)cc1  \n",
       "1                              N=c1nc(O)c2ncc(O)nc2[nH]1  \n",
       "2                         N=c1nc(O)c2nc(C(=O)O)cnc2[nH]1  \n",
       "3                                    Fc1cc(F)c(F)c(S)c1F  \n",
       "4                                           Nc1cccc(O)c1  \n",
       "...                                                  ...  \n",
       "22484  O=C(O)/C=C/C(=O)OCCC(F)(F)C(F)(F)C(F)(F)C(F)(F...  \n",
       "22485                                               None  \n",
       "22486                                               None  \n",
       "22487                                               None  \n",
       "22488                                               None  \n",
       "\n",
       "[22489 rows x 2 columns]"
      ]
     },
     "execution_count": 96,
     "metadata": {},
     "output_type": "execute_result"
    }
   ],
   "source": [
    "# df_label.drop(df_label[~df_label['inchi'].str.startswith('InChI')].index, inplace=True) # no \"~\" for unlabeled spectra\n",
    "df_label[\"spectrum\"] = df_label[\"filename\"].apply(partial(readspec, ds=ds))\n",
    "\n",
    "''' no need for unlabeled spectra'''\n",
    "df_label[\"mol\"] = df_label[\"inchi\"].apply(mfi)\n",
    "# df_label = df_label[df_label[\"mol\"].apply(lambda x: isinstance(x, Chem.rdchem.Mol))].reset_index(drop=True) \n",
    "\n",
    "df_label['smiles'] = df_label['mol'].apply(m2s) \n",
    "# dfs['label'] = dfs['mol'].apply(labeling)  \n",
    "# dfs['label'] = dfs['smiles'].apply(labeling)  \n",
    "df_label = df_label.drop(['filename', 'inchi', 'mol'], axis=1) \n",
    "'''no need for unlabeled spectra'''\n",
    "\n",
    "df_label['spectrum'] = df_label['spectrum'].apply(interpolate)\n",
    "df_label"
   ]
  },
  {
   "cell_type": "code",
   "execution_count": 28,
   "metadata": {},
   "outputs": [],
   "source": [
    "df_unlabel = deepcopy(df_label)"
   ]
  },
  {
   "cell_type": "code",
   "execution_count": 29,
   "metadata": {},
   "outputs": [
    {
     "data": {
      "text/plain": [
       "Counter({'C': 19571,\n",
       "         'O': 16137,\n",
       "         'N': 9607,\n",
       "         'Cl': 3635,\n",
       "         'S': 2423,\n",
       "         'F': 2275,\n",
       "         'Br': 1659,\n",
       "         'Na': 594,\n",
       "         'P': 560,\n",
       "         'B': 482,\n",
       "         'I': 448,\n",
       "         'Si': 324,\n",
       "         'K': 236,\n",
       "         'Sn': 149,\n",
       "         'Ca': 90,\n",
       "         'H': 79,\n",
       "         'Cr': 74,\n",
       "         'Pb': 72,\n",
       "         'Co': 70,\n",
       "         'Al': 69,\n",
       "         'Ba': 65,\n",
       "         'Li': 63,\n",
       "         'Zn': 62,\n",
       "         'Hg': 58,\n",
       "         'Mo': 57,\n",
       "         'Fe': 54,\n",
       "         'Ti': 52,\n",
       "         'As': 51,\n",
       "         'Mg': 49,\n",
       "         'Ce': 46,\n",
       "         'W': 45,\n",
       "         'Se': 43,\n",
       "         'Cs': 43,\n",
       "         'Sb': 40,\n",
       "         'Bi': 31,\n",
       "         'Ag': 30,\n",
       "         'Pd': 29,\n",
       "         'Cu': 27,\n",
       "         'Pt': 27,\n",
       "         'Zr': 26,\n",
       "         'Mn': 24,\n",
       "         'Cd': 24,\n",
       "         'V': 23,\n",
       "         'Ni': 23,\n",
       "         'Sr': 21,\n",
       "         'Eu': 20,\n",
       "         'La': 20,\n",
       "         'In': 20,\n",
       "         'Te': 19,\n",
       "         'Th': 19,\n",
       "         'Rh': 18,\n",
       "         'Ge': 15,\n",
       "         'Rb': 14,\n",
       "         'Tl': 14,\n",
       "         'U': 14,\n",
       "         'Ga': 12,\n",
       "         'Y': 11,\n",
       "         'Sc': 11,\n",
       "         'Gd': 11,\n",
       "         'Ho': 10,\n",
       "         'Ir': 10,\n",
       "         'Nb': 10,\n",
       "         'Pr': 9,\n",
       "         'Sm': 9,\n",
       "         'Re': 9,\n",
       "         'Be': 8,\n",
       "         'Hf': 6,\n",
       "         'Ta': 6,\n",
       "         'Ru': 6,\n",
       "         'Dy': 5,\n",
       "         'Nd': 5,\n",
       "         'Os': 5,\n",
       "         'Er': 5,\n",
       "         'Au': 4,\n",
       "         'Tb': 4,\n",
       "         'Tm': 3,\n",
       "         'Lu': 2,\n",
       "         'Yb': 1})"
      ]
     },
     "execution_count": 29,
     "metadata": {},
     "output_type": "execute_result"
    }
   ],
   "source": [
    "e_all = []\n",
    "t_all = []\n",
    "for i in df_label['smiles'].values:\n",
    "    if i: e_all+=count_element(i) \n",
    "Counter(e_all)"
   ]
  },
  {
   "cell_type": "code",
   "execution_count": 31,
   "metadata": {},
   "outputs": [
    {
     "name": "stderr",
     "output_type": "stream",
     "text": [
      "  0%|                                                                     | 0/22488 [00:00<?, ?it/s]"
     ]
    },
    {
     "name": "stderr",
     "output_type": "stream",
     "text": [
      "22489it [05:58, 62.80it/s]                                                                          \n"
     ]
    },
    {
     "data": {
      "text/plain": [
       "Counter({'c': 109733,\n",
       "         '(': 51270,\n",
       "         ')': 51270,\n",
       "         '1': 36864,\n",
       "         '[': 28964,\n",
       "         ']': 28964,\n",
       "         '=': 24493,\n",
       "         '2': 16346,\n",
       "         '.': 13955,\n",
       "         '@': 13311,\n",
       "         '-': 9536,\n",
       "         '+': 5822,\n",
       "         'n': 5186,\n",
       "         '3': 4274,\n",
       "         '/': 1738,\n",
       "         '4': 1726,\n",
       "         '#': 1538,\n",
       "         'a': 1168,\n",
       "         'o': 810,\n",
       "         'i': 552,\n",
       "         's': 478,\n",
       "         '\\\\': 293,\n",
       "         '5': 249,\n",
       "         'e': 175,\n",
       "         'b': 174,\n",
       "         'r': 142,\n",
       "         '6': 72,\n",
       "         'd': 62,\n",
       "         '7': 36,\n",
       "         '8': 30,\n",
       "         'u': 28,\n",
       "         't': 27,\n",
       "         '9': 18,\n",
       "         'm': 11})"
      ]
     },
     "execution_count": 31,
     "metadata": {},
     "output_type": "execute_result"
    }
   ],
   "source": [
    "for i in tqdm(df_label['smiles'].values, total=df_label.index.to_numpy().max(), ncols=100):\n",
    "    if i:\n",
    "        t_all+=count_token(i, e_all)\n",
    "Counter(t_all)"
   ]
  },
  {
   "cell_type": "code",
   "execution_count": 10,
   "metadata": {},
   "outputs": [
    {
     "data": {
      "text/plain": [
       "21"
      ]
     },
     "execution_count": 10,
     "metadata": {},
     "output_type": "execute_result"
    }
   ],
   "source": [
    "tokens = ['Cl','Br','C','c','O','o','N','n','S','s','F','I','P','(',')','=','#','1','2','3','@']\n",
    "len(tokens)"
   ]
  },
  {
   "cell_type": "code",
   "execution_count": 97,
   "metadata": {},
   "outputs": [
    {
     "data": {
      "text/html": [
       "<div>\n",
       "<style scoped>\n",
       "    .dataframe tbody tr th:only-of-type {\n",
       "        vertical-align: middle;\n",
       "    }\n",
       "\n",
       "    .dataframe tbody tr th {\n",
       "        vertical-align: top;\n",
       "    }\n",
       "\n",
       "    .dataframe thead th {\n",
       "        text-align: right;\n",
       "    }\n",
       "</style>\n",
       "<table border=\"1\" class=\"dataframe\">\n",
       "  <thead>\n",
       "    <tr style=\"text-align: right;\">\n",
       "      <th></th>\n",
       "      <th>spectrum</th>\n",
       "      <th>smiles</th>\n",
       "      <th>label</th>\n",
       "    </tr>\n",
       "  </thead>\n",
       "  <tbody>\n",
       "    <tr>\n",
       "      <th>0</th>\n",
       "      <td>[0.02040800079703331, 0.02040800079703331, 0.0...</td>\n",
       "      <td>COc1ccc(C(Cl)(c2ccccc2)c2ccc(OC)cc2)cc1</td>\n",
       "      <td></td>\n",
       "    </tr>\n",
       "    <tr>\n",
       "      <th>1</th>\n",
       "      <td>[0.024490000680088997, 0.028571000322699543, 0...</td>\n",
       "      <td>N=c1nc(O)c2ncc(O)nc2[nH]1</td>\n",
       "      <td>[H]</td>\n",
       "    </tr>\n",
       "    <tr>\n",
       "      <th>2</th>\n",
       "      <td>[0.012245000340044498, 0.014286000281572342, 0...</td>\n",
       "      <td>N=c1nc(O)c2nc(C(=O)O)cnc2[nH]1</td>\n",
       "      <td>[H]</td>\n",
       "    </tr>\n",
       "    <tr>\n",
       "      <th>3</th>\n",
       "      <td>[0.008163000456988811, 0.008163000456988811, 0...</td>\n",
       "      <td>Fc1cc(F)c(F)c(S)c1F</td>\n",
       "      <td></td>\n",
       "    </tr>\n",
       "    <tr>\n",
       "      <th>4</th>\n",
       "      <td>[0.008163000456988811, 0.008163000456988811, 0...</td>\n",
       "      <td>Nc1cccc(O)c1</td>\n",
       "      <td></td>\n",
       "    </tr>\n",
       "    <tr>\n",
       "      <th>...</th>\n",
       "      <td>...</td>\n",
       "      <td>...</td>\n",
       "      <td>...</td>\n",
       "    </tr>\n",
       "    <tr>\n",
       "      <th>22484</th>\n",
       "      <td>[0.0, 0.0, 0.0, 0.0066548801379557095, 0.00834...</td>\n",
       "      <td>O=C(O)/C=C/C(=O)OCCC(F)(F)C(F)(F)C(F)(F)C(F)(F...</td>\n",
       "      <td>//</td>\n",
       "    </tr>\n",
       "    <tr>\n",
       "      <th>22485</th>\n",
       "      <td>[0.0, 0.0, 0.0, 0.011646651255944645, 0.014286...</td>\n",
       "      <td>None</td>\n",
       "      <td>None</td>\n",
       "    </tr>\n",
       "    <tr>\n",
       "      <th>22486</th>\n",
       "      <td>[0.0, 0.0, 0.0, 0.004990956052329375, 0.006122...</td>\n",
       "      <td>None</td>\n",
       "      <td>None</td>\n",
       "    </tr>\n",
       "    <tr>\n",
       "      <th>22487</th>\n",
       "      <td>[0.0, 0.0, 0.0, 0.009982727549948332, 0.012245...</td>\n",
       "      <td>None</td>\n",
       "      <td>None</td>\n",
       "    </tr>\n",
       "    <tr>\n",
       "      <th>22488</th>\n",
       "      <td>[0.008163000456988811, 0.008163000456988811, 0...</td>\n",
       "      <td>None</td>\n",
       "      <td>None</td>\n",
       "    </tr>\n",
       "  </tbody>\n",
       "</table>\n",
       "<p>22489 rows × 3 columns</p>\n",
       "</div>"
      ],
      "text/plain": [
       "                                                spectrum  \\\n",
       "0      [0.02040800079703331, 0.02040800079703331, 0.0...   \n",
       "1      [0.024490000680088997, 0.028571000322699543, 0...   \n",
       "2      [0.012245000340044498, 0.014286000281572342, 0...   \n",
       "3      [0.008163000456988811, 0.008163000456988811, 0...   \n",
       "4      [0.008163000456988811, 0.008163000456988811, 0...   \n",
       "...                                                  ...   \n",
       "22484  [0.0, 0.0, 0.0, 0.0066548801379557095, 0.00834...   \n",
       "22485  [0.0, 0.0, 0.0, 0.011646651255944645, 0.014286...   \n",
       "22486  [0.0, 0.0, 0.0, 0.004990956052329375, 0.006122...   \n",
       "22487  [0.0, 0.0, 0.0, 0.009982727549948332, 0.012245...   \n",
       "22488  [0.008163000456988811, 0.008163000456988811, 0...   \n",
       "\n",
       "                                                  smiles label  \n",
       "0                COc1ccc(C(Cl)(c2ccccc2)c2ccc(OC)cc2)cc1        \n",
       "1                              N=c1nc(O)c2ncc(O)nc2[nH]1   [H]  \n",
       "2                         N=c1nc(O)c2nc(C(=O)O)cnc2[nH]1   [H]  \n",
       "3                                    Fc1cc(F)c(F)c(S)c1F        \n",
       "4                                           Nc1cccc(O)c1        \n",
       "...                                                  ...   ...  \n",
       "22484  O=C(O)/C=C/C(=O)OCCC(F)(F)C(F)(F)C(F)(F)C(F)(F...    //  \n",
       "22485                                               None  None  \n",
       "22486                                               None  None  \n",
       "22487                                               None  None  \n",
       "22488                                               None  None  \n",
       "\n",
       "[22489 rows x 3 columns]"
      ]
     },
     "execution_count": 97,
     "metadata": {},
     "output_type": "execute_result"
    }
   ],
   "source": [
    "df_label['label'] = df_label['smiles'].apply(partial(count_token, subs=tokens))\n",
    "df_label"
   ]
  },
  {
   "cell_type": "code",
   "execution_count": 98,
   "metadata": {},
   "outputs": [
    {
     "data": {
      "text/html": [
       "<div>\n",
       "<style scoped>\n",
       "    .dataframe tbody tr th:only-of-type {\n",
       "        vertical-align: middle;\n",
       "    }\n",
       "\n",
       "    .dataframe tbody tr th {\n",
       "        vertical-align: top;\n",
       "    }\n",
       "\n",
       "    .dataframe thead th {\n",
       "        text-align: right;\n",
       "    }\n",
       "</style>\n",
       "<table border=\"1\" class=\"dataframe\">\n",
       "  <thead>\n",
       "    <tr style=\"text-align: right;\">\n",
       "      <th></th>\n",
       "      <th>spectrum</th>\n",
       "      <th>smiles</th>\n",
       "      <th>label</th>\n",
       "    </tr>\n",
       "  </thead>\n",
       "  <tbody>\n",
       "    <tr>\n",
       "      <th>0</th>\n",
       "      <td>[0.02040800079703331, 0.02040800079703331, 0.0...</td>\n",
       "      <td>COc1ccc(C(Cl)(c2ccccc2)c2ccc(OC)cc2)cc1</td>\n",
       "      <td></td>\n",
       "    </tr>\n",
       "    <tr>\n",
       "      <th>3</th>\n",
       "      <td>[0.008163000456988811, 0.008163000456988811, 0...</td>\n",
       "      <td>Fc1cc(F)c(F)c(S)c1F</td>\n",
       "      <td></td>\n",
       "    </tr>\n",
       "    <tr>\n",
       "      <th>4</th>\n",
       "      <td>[0.008163000456988811, 0.008163000456988811, 0...</td>\n",
       "      <td>Nc1cccc(O)c1</td>\n",
       "      <td></td>\n",
       "    </tr>\n",
       "    <tr>\n",
       "      <th>5</th>\n",
       "      <td>[0.010204000398516655, 0.008163000456988811, 0...</td>\n",
       "      <td>C1C2CC3CC1CC(C2)C3</td>\n",
       "      <td></td>\n",
       "    </tr>\n",
       "    <tr>\n",
       "      <th>6</th>\n",
       "      <td>[0.008163000456988811, 0.008871265343833763, 0...</td>\n",
       "      <td>OCc1c(Cl)cccc1Cl</td>\n",
       "      <td></td>\n",
       "    </tr>\n",
       "    <tr>\n",
       "      <th>...</th>\n",
       "      <td>...</td>\n",
       "      <td>...</td>\n",
       "      <td>...</td>\n",
       "    </tr>\n",
       "    <tr>\n",
       "      <th>22451</th>\n",
       "      <td>[0.0, 0.0, 0.0, 0.026620334478592328, 0.032653...</td>\n",
       "      <td>C=CCOCCCCCCCCCCCCOCC=C</td>\n",
       "      <td></td>\n",
       "    </tr>\n",
       "    <tr>\n",
       "      <th>22452</th>\n",
       "      <td>[0.0, 0.0, 0.0, 0.0066548801379557095, 0.00816...</td>\n",
       "      <td>CN1C(=O)C=CC1=O</td>\n",
       "      <td></td>\n",
       "    </tr>\n",
       "    <tr>\n",
       "      <th>22453</th>\n",
       "      <td>[0.0, 0.0, 0.0, 0.014973683222647685, 0.018189...</td>\n",
       "      <td>OCCn1ccnc1</td>\n",
       "      <td></td>\n",
       "    </tr>\n",
       "    <tr>\n",
       "      <th>22454</th>\n",
       "      <td>[0.0, 0.0, 0.0, 0.009982727549948332, 0.012245...</td>\n",
       "      <td>CC(C)(C)c1cc(Cc2cc(C(C)(C)C)c(O)c(C(C)(C)C)c2)...</td>\n",
       "      <td></td>\n",
       "    </tr>\n",
       "    <tr>\n",
       "      <th>22479</th>\n",
       "      <td>[0.0, 0.0, 0.0, 0.01331057420268091, 0.0188996...</td>\n",
       "      <td>NCCCn1ccnc1</td>\n",
       "      <td></td>\n",
       "    </tr>\n",
       "  </tbody>\n",
       "</table>\n",
       "<p>11389 rows × 3 columns</p>\n",
       "</div>"
      ],
      "text/plain": [
       "                                                spectrum  \\\n",
       "0      [0.02040800079703331, 0.02040800079703331, 0.0...   \n",
       "3      [0.008163000456988811, 0.008163000456988811, 0...   \n",
       "4      [0.008163000456988811, 0.008163000456988811, 0...   \n",
       "5      [0.010204000398516655, 0.008163000456988811, 0...   \n",
       "6      [0.008163000456988811, 0.008871265343833763, 0...   \n",
       "...                                                  ...   \n",
       "22451  [0.0, 0.0, 0.0, 0.026620334478592328, 0.032653...   \n",
       "22452  [0.0, 0.0, 0.0, 0.0066548801379557095, 0.00816...   \n",
       "22453  [0.0, 0.0, 0.0, 0.014973683222647685, 0.018189...   \n",
       "22454  [0.0, 0.0, 0.0, 0.009982727549948332, 0.012245...   \n",
       "22479  [0.0, 0.0, 0.0, 0.01331057420268091, 0.0188996...   \n",
       "\n",
       "                                                  smiles label  \n",
       "0                COc1ccc(C(Cl)(c2ccccc2)c2ccc(OC)cc2)cc1        \n",
       "3                                    Fc1cc(F)c(F)c(S)c1F        \n",
       "4                                           Nc1cccc(O)c1        \n",
       "5                                     C1C2CC3CC1CC(C2)C3        \n",
       "6                                       OCc1c(Cl)cccc1Cl        \n",
       "...                                                  ...   ...  \n",
       "22451                             C=CCOCCCCCCCCCCCCOCC=C        \n",
       "22452                                    CN1C(=O)C=CC1=O        \n",
       "22453                                         OCCn1ccnc1        \n",
       "22454  CC(C)(C)c1cc(Cc2cc(C(C)(C)C)c(O)c(C(C)(C)C)c2)...        \n",
       "22479                                        NCCCn1ccnc1        \n",
       "\n",
       "[11389 rows x 3 columns]"
      ]
     },
     "execution_count": 98,
     "metadata": {},
     "output_type": "execute_result"
    }
   ],
   "source": [
    "df_label = df_label.drop(df_label[~(df_label['label']=='')].index)\n",
    "df_label"
   ]
  },
  {
   "cell_type": "code",
   "execution_count": null,
   "metadata": {},
   "outputs": [],
   "source": [
    "df_label['label'] = df_label['smiles'].apply(partial(label_token, lst=tokens))\n",
    "df_label"
   ]
  },
  {
   "cell_type": "code",
   "execution_count": null,
   "metadata": {},
   "outputs": [],
   "source": [
    "print(df_unlabel.index.to_numpy().max())\n",
    "df_unlabel['smiles'] = df_unlabel['inchi'].apply(mfi)\n",
    "# for smiles in df_label['smiles'].values:\n",
    "df_unlabel.drop(df_label.index)\n"
   ]
  },
  {
   "cell_type": "code",
   "execution_count": null,
   "metadata": {},
   "outputs": [],
   "source": [
    "print(df_unlabel.index.to_numpy().max(), df_label.index.to_numpy().max())"
   ]
  },
  {
   "cell_type": "code",
   "execution_count": 49,
   "metadata": {},
   "outputs": [
    {
     "data": {
      "text/plain": [
       "str"
      ]
     },
     "execution_count": 49,
     "metadata": {},
     "output_type": "execute_result"
    }
   ],
   "source": [
    "type('')"
   ]
  },
  {
   "cell_type": "markdown",
   "metadata": {},
   "source": [
    "## 2. Splitting"
   ]
  },
  {
   "cell_type": "code",
   "execution_count": 32,
   "metadata": {},
   "outputs": [],
   "source": [
    "### tts\n",
    "ds = 'raman2mol'\n",
    "rng = np.random.default_rng(42)\n",
    "\n",
    "idx = df_label.index.to_numpy()\n",
    "rng.shuffle(idx)\n",
    "\n",
    "n = len(idx)\n",
    "train_end, val_end = int(0.85 * n), int(0.9 * n)\n",
    "\n",
    "train_df = df_label.loc[idx[:train_end]]\n",
    "val_df   = df_label.loc[idx[train_end:]]# no val_end]] for pretraining\n",
    "test_df  = df_label.loc[idx[val_end:]]\n",
    "\n"
   ]
  },
  {
   "cell_type": "code",
   "execution_count": null,
   "metadata": {},
   "outputs": [],
   "source": [
    "train_df.to_pickle(f'/home/lyt/projects/spec2mol/datasets/{ds}/train.pkl')\n",
    "val_df.to_pickle(f'/home/lyt/projects/spec2mol/datasets/{ds}/eval.pkl')\n",
    "test_df.to_pickle(f'/home/lyt/projects/spec2mol/datasets/{ds}/test.pkl')\n",
    "idx.max()"
   ]
  },
  {
   "cell_type": "code",
   "execution_count": null,
   "metadata": {},
   "outputs": [],
   "source": [
    "np.vstack(np.vstack(df['smiles'].values))"
   ]
  },
  {
   "cell_type": "markdown",
   "metadata": {},
   "source": [
    "## 2. Creating with lmdb"
   ]
  },
  {
   "cell_type": "code",
   "execution_count": 16,
   "metadata": {},
   "outputs": [],
   "source": [
    "db = lmdb.open('/data/YantiLiu/projects/substructure-ID/datasets/qm9s_raman/qm9s_raman_eval.lmdb', subdir=False, lock=False, map_size=int(1e11))\n",
    "\n",
    "# Open a transaction and perform a read operation\n",
    "with db.begin() as txn:\n",
    "    dset = list(txn.cursor().iternext(values=False))"
   ]
  },
  {
   "cell_type": "code",
   "execution_count": 17,
   "metadata": {},
   "outputs": [],
   "source": [
    "d1 = []\n",
    "s1 = []\n",
    "l1 = []\n",
    "with db.begin() as txn:\n",
    "    keys = list(txn.cursor().iternext(values=False))\n",
    "    for i in keys:\n",
    "        obj = pickle.loads(txn.get(i))\n",
    "        d1.append(obj['spectra'])\n",
    "        s1.append(obj['smiles'])\n",
    "        l1.append(obj['substructures'])\n",
    "d1, s1, l1 = np.vstack(d1), np.hstack(s1), np.vstack(l1)"
   ]
  },
  {
   "cell_type": "code",
   "execution_count": 54,
   "metadata": {},
   "outputs": [],
   "source": [
    "dset = np.load('/data/YantiLiu/projects/multispec/dataset/raman_ir_qm9s.npz', allow_pickle=True)\n",
    "d , s , l = dset['ir'], dset['smiles'], dset['label_957']"
   ]
  },
  {
   "cell_type": "code",
   "execution_count": null,
   "metadata": {},
   "outputs": [],
   "source": [
    "smiles = np.load('/data/YantiLiu/projects/subs_id/datasets/qm9s_raman/eval_s.npy')\n",
    "ids = np.hstack([np.where(s==e)[0] for e in tqdm(smiles, total=len(smiles))])\n"
   ]
  },
  {
   "cell_type": "code",
   "execution_count": 63,
   "metadata": {},
   "outputs": [],
   "source": [
    "np.save('/data/YantiLiu/projects/subs_id/datasets/qm9s_ir/eval_y.npy', l[ids])\n",
    "np.save('/data/YantiLiu/projects/subs_id/datasets/qm9s_ir/eval_x.npy', d[ids])\n",
    "np.save('/data/YantiLiu/projects/subs_id/datasets/qm9s_ir/eval_s.npy', s[ids])"
   ]
  },
  {
   "cell_type": "code",
   "execution_count": null,
   "metadata": {},
   "outputs": [],
   "source": [
    "(np.load('/data/YantiLiu/projects/subs_id/datasets/qm9s_raman/eval_s.npy') == np.load('/data/YantiLiu/projects/subs_id/datasets/qm9s_ir/eval_s.npy')\n",
    ").all()"
   ]
  },
  {
   "cell_type": "code",
   "execution_count": null,
   "metadata": {},
   "outputs": [],
   "source": [
    "i=1000\n",
    "raman = np.load('/data/YantiLiu/projects/subs_id/datasets/qm9s_raman/test_x.npy')[i]\n",
    "ir = np.load('/data/YantiLiu/projects/subs_id/datasets/qm9s_ir/test_x.npy')[i][::-1]\n",
    "smiles = np.load('/data/YantiLiu/projects/subs_id/datasets/qm9s_ir/test_s.npy')[i]\n",
    "plt.plot(raman)\n",
    "plt.plot(ir)\n",
    "plt.title(smiles)\n"
   ]
  },
  {
   "cell_type": "code",
   "execution_count": null,
   "metadata": {},
   "outputs": [],
   "source": [
    "mol=Chem.MolFromSmiles(smiles)\n",
    "Draw.MolsToGridImage(mol, size=(150,150), kekulize=True)"
   ]
  },
  {
   "cell_type": "code",
   "execution_count": null,
   "metadata": {},
   "outputs": [],
   "source": []
  }
 ],
 "metadata": {
  "kernelspec": {
   "display_name": "raman",
   "language": "python",
   "name": "python3"
  },
  "language_info": {
   "codemirror_mode": {
    "name": "ipython",
    "version": 3
   },
   "file_extension": ".py",
   "mimetype": "text/x-python",
   "name": "python",
   "nbconvert_exporter": "python",
   "pygments_lexer": "ipython3",
   "version": "3.12.11"
  },
  "orig_nbformat": 4
 },
 "nbformat": 4,
 "nbformat_minor": 2
}
