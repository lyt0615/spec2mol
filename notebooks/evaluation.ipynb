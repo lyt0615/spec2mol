{
 "cells": [
  {
   "cell_type": "markdown",
   "metadata": {},
   "source": [
    "# 1 Display Outputs"
   ]
  },
  {
   "cell_type": "code",
   "execution_count": 12,
   "metadata": {},
   "outputs": [],
   "source": [
    "import pandas as pd\n",
    "from rdkit import Chem\n",
    "from rdkit.Chem import Draw"
   ]
  },
  {
   "cell_type": "code",
   "execution_count": null,
   "metadata": {},
   "outputs": [],
   "source": [
    "moldict = pd.read_pickle('search.pkl')\n",
    "truelist, falselist = moldict['true'], moldict['false']"
   ]
  },
  {
   "cell_type": "code",
   "execution_count": 17,
   "metadata": {},
   "outputs": [],
   "source": [
    "\n",
    "for i in range(len(truelist)):\n",
    "    img = Draw.MolsToGridImage([Chem.MolFromSmiles(m) for m in truelist[i]],\n",
    "                            molsPerRow=len(truelist[i]),    \n",
    "                            subImgSize=(300,300),\n",
    "                            legends=truelist[i], \n",
    "                            returnPNG=False\n",
    "                            )\n",
    "    img.save(f'{i}.png')"
   ]
  },
  {
   "cell_type": "code",
   "execution_count": 20,
   "metadata": {},
   "outputs": [
    {
     "name": "stderr",
     "output_type": "stream",
     "text": [
      "[08:54:35] SMILES Parse Error: extra open parentheses while parsing: CC(C)(C)OC(=O)Oc1ccc(C(C)(C)C\n",
      "[08:54:35] SMILES Parse Error: check for mistakes around position 21:\n",
      "[08:54:35] CC(C)(C)OC(=O)Oc1ccc(C(C)(C)C\n",
      "[08:54:35] ~~~~~~~~~~~~~~~~~~~~^\n",
      "[08:54:35] SMILES Parse Error: Failed parsing SMILES 'CC(C)(C)OC(=O)Oc1ccc(C(C)(C)C' for input: 'CC(C)(C)OC(=O)Oc1ccc(C(C)(C)C'\n"
     ]
    }
   ],
   "source": [
    "\n",
    "# 2. 绘制\n",
    "for i in range(len(falselist)):\n",
    "    # try: [Chem.MolFromSmiles(m) for m in falselist[i]]\n",
    "    # except: falselist[i][0] == '[X]'\n",
    "    img = Draw.MolsToGridImage([Chem.MolFromSmiles(m) for m in falselist[i]],\n",
    "                            molsPerRow=len(falselist[i]),      # 每行几列\n",
    "                            subImgSize=(300,300),\n",
    "                            legends=falselist[i],  # 图例\n",
    "                            returnPNG=False\n",
    "                            )\n",
    "    img.save(f'{i}.png')"
   ]
  },
  {
   "cell_type": "markdown",
   "metadata": {},
   "source": [
    "# 2 Greedy Decode"
   ]
  },
  {
   "cell_type": "code",
   "execution_count": 1,
   "metadata": {},
   "outputs": [],
   "source": [
    "import matplotlib.pyplot as plt\n",
    "import numpy as np\n",
    "import torch, os"
   ]
  },
  {
   "cell_type": "code",
   "execution_count": 7,
   "metadata": {},
   "outputs": [
    {
     "data": {
      "text/plain": [
       "Text(0, 0.5, 'Recall')"
      ]
     },
     "execution_count": 7,
     "metadata": {},
     "output_type": "execute_result"
    },
    {
     "data": {
      "image/png": "[encoded data removed]",
      "text/plain": [
       "<Figure size 640x480 with 1 Axes>"
      ]
     },
     "metadata": {},
     "output_type": "display_data"
    }
   ],
   "source": [
    "rep_pen_dict = {\n",
    "    '0.5':0.1122,\n",
    "    '0.9':0.3967,\n",
    "    '1':0.4042,\n",
    "    '1.25':0.3849,\n",
    "    '1.5':0.3272,\n",
    "    '2':0.1555\n",
    "}\n",
    "rep_pen = list(rep_pen_dict.keys())\n",
    "recall = list(rep_pen_dict.values())\n",
    "plt.plot(rep_pen, recall, c='indianred')\n",
    "plt.xlabel('Repetition Penalty')\n",
    "plt.ylabel('Recall')"
   ]
  },
  {
   "cell_type": "markdown",
   "metadata": {},
   "source": [
    "# 3 Beam Search"
   ]
  },
  {
   "cell_type": "code",
   "execution_count": 5,
   "metadata": {},
   "outputs": [
    {
     "name": "stderr",
     "output_type": "stream",
     "text": [
      "/tmp/ipykernel_2453308/445999302.py:1: FutureWarning: You are using `torch.load` with `weights_only=False` (the current default value), which uses the default pickle module implicitly. It is possible to construct malicious pickle data which will execute arbitrary code during unpickling (See https://github.com/pytorch/pytorch/blob/main/SECURITY.md#untrusted-models for more details). In a future release, the default value for `weights_only` will be flipped to `True`. This limits the functions that could be executed during unpickling. Arbitrary objects will no longer be allowed to be loaded via this mode unless they are explicitly allowlisted by the user via `torch.serialization.add_safe_globals`. We recommend you start setting `weights_only=True` for any use case where you don't have full control of the loaded file. Please open an issue on GitHub for any issues related to this experimental feature.\n",
      "  data = torch.load('beamsearch.pt')\n"
     ]
    }
   ],
   "source": [
    "data = torch.load('beamsearch.pt')\n",
    "temps = [1, 1.5, 2]\n",
    "beamsizes = [3,5,7,9]"
   ]
  },
  {
   "cell_type": "code",
   "execution_count": 6,
   "metadata": {},
   "outputs": [
    {
     "data": {
      "text/plain": [
       "[np.float64(0.30890179003386553),\n",
       " np.float64(0.14876632801161102),\n",
       " np.float64(0.09917755200774069),\n",
       " np.float64(0.07232704402515723),\n",
       " np.float64(0.0613933236574746),\n",
       " np.float64(0.05075794226737623),\n",
       " np.float64(0.042573778422835024),\n",
       " np.float64(0.03828011611030479),\n",
       " np.float64(0.03442993065634575),\n",
       " np.float64(0.03018867924528302),\n",
       " np.float64(0.027708140915688087),\n",
       " np.float64(0.025278180938558298)]"
      ]
     },
     "execution_count": 6,
     "metadata": {},
     "output_type": "execute_result"
    }
   ],
   "source": [
    "data"
   ]
  },
  {
   "cell_type": "code",
   "execution_count": null,
   "metadata": {},
   "outputs": [],
   "source": []
  }
 ],
 "metadata": {
  "kernelspec": {
   "display_name": "raman",
   "language": "python",
   "name": "python3"
  },
  "language_info": {
   "codemirror_mode": {
    "name": "ipython",
    "version": 3
   },
   "file_extension": ".py",
   "mimetype": "text/x-python",
   "name": "python",
   "nbconvert_exporter": "python",
   "pygments_lexer": "ipython3",
   "version": "3.12.11"
  }
 },
 "nbformat": 4,
 "nbformat_minor": 2
}
